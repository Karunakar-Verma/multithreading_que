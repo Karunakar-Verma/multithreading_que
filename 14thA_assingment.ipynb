{
 "cells": [
  {
   "cell_type": "markdown",
   "id": "db18bc1d-19a1-4f50-abbf-d639889195b4",
   "metadata": {},
   "source": [
    "# Assignment of 14th feb \"Multithreading"
   ]
  },
  {
   "cell_type": "code",
   "execution_count": 1,
   "id": "ccfabf99-b5e6-4906-8629-364a5296aba4",
   "metadata": {},
   "outputs": [],
   "source": [
    "# ). hat is multithreading in python? hy is it used? Name the module used to handle threads in python"
   ]
  },
  {
   "cell_type": "code",
   "execution_count": 2,
   "id": "27677cc6-e6bb-4c83-b003-1bea8bdf46ac",
   "metadata": {},
   "outputs": [
    {
     "data": {
      "text/plain": [
       "'\\n\\nMultithreading in Python allows concurrent execution of multiple threads within the same process. It is used to efficiently manage I/O-bound tasks, making use of waiting time for I/O operations. The module used to handle threads in Python is called \"threading.\"\\n'"
      ]
     },
     "execution_count": 2,
     "metadata": {},
     "output_type": "execute_result"
    }
   ],
   "source": [
    "\"\"\"\n",
    "\n",
    "Multithreading in Python allows concurrent execution of multiple threads within the same process. It is used to efficiently manage I/O-bound tasks, making use of waiting time for I/O operations. The module used to handle threads in Python is called \"threading.\"\n",
    "\"\"\""
   ]
  },
  {
   "cell_type": "code",
   "execution_count": 3,
   "id": "c670c54d-6f3d-42a6-8522-7fdf5c14952d",
   "metadata": {},
   "outputs": [
    {
     "data": {
      "text/plain": [
       "' Why threading module used? rite the use of the following functions\\n( activeCount\\n currentThread\\n enumerate)'"
      ]
     },
     "execution_count": 3,
     "metadata": {},
     "output_type": "execute_result"
    }
   ],
   "source": [
    "\"\"\" Q 2 _>  Why threading module used? rite the use of the following functions\n",
    "( activeCount\n",
    " currentThread\n",
    " enumerate)\"\"\""
   ]
  },
  {
   "cell_type": "code",
   "execution_count": 6,
   "id": "2a853fa6-a7e2-4aea-9766-e154981d9c3f",
   "metadata": {},
   "outputs": [
    {
     "data": {
      "text/plain": [
       "'\\nThe \"threading\" module in Python is used to create, manage, and work with threads, enabling concurrent execution of tasks within the same process, facilitating efficient I/O-bound operations, and improving program responsiveness.\\n\\nactiveCount(): This function is used to return the number of active threads currently running in the program. It includes both daemon and non-daemon threads\\ncurrentThread(): This function is used to get the current thread object that represents the thread from which it is called. It allows you to access information and manipulate the current thread\\nenumerate(): The enumerate() function is used to return a list of all Thread objects that are currently active in the program.\\n'"
      ]
     },
     "execution_count": 6,
     "metadata": {},
     "output_type": "execute_result"
    }
   ],
   "source": [
    "\"\"\"\n",
    "The \"threading\" module in Python is used to create, manage, and work with threads, enabling concurrent execution of tasks within the same process, facilitating efficient I/O-bound operations, and improving program responsiveness.\n",
    "\n",
    "activeCount(): This function is used to return the number of active threads currently running in the program. It includes both daemon and non-daemon threads\n",
    "currentThread(): This function is used to get the current thread object that represents the thread from which it is called. It allows you to access information and manipulate the current thread\n",
    "enumerate(): The enumerate() function is used to return a list of all Thread objects that are currently active in the program.\n",
    "\"\"\""
   ]
  },
  {
   "cell_type": "code",
   "execution_count": 7,
   "id": "5c582587-4065-4141-8b30-da78759d8c27",
   "metadata": {},
   "outputs": [
    {
     "data": {
      "text/plain": [
       "' Q 3 -> \\n3. Explain the following functions\\n( run()\\n start()\\n join()\\n isAlive()\\n )\\n'"
      ]
     },
     "execution_count": 7,
     "metadata": {},
     "output_type": "execute_result"
    }
   ],
   "source": [
    "\"\"\" Q 3 -> \n",
    "3. Explain the following functions\n",
    "( run()\n",
    " start()\n",
    " join()\n",
    " isAlive()\n",
    " )\n",
    "\"\"\""
   ]
  },
  {
   "cell_type": "code",
   "execution_count": 8,
   "id": "d963a0dd-a7da-4885-be08-48ca517f97d6",
   "metadata": {},
   "outputs": [
    {
     "data": {
      "text/plain": [
       "\"\\nrun() is a method that represents the entry point of a thread's activity. When you create a thread object, you can subclass the thread class and override the run() method to define the actions that the thread will perform when it starts executing\\nstart() is a method used to start the execution of a thread. After creating a thread object and setting up its properties (if necessary), you call the start() method. This method initiates the thread's execution, and it internally calls the run() method that you've defined in your subclass. It's important to note that you should never call the run() method directly; always use start() to begin the thread's execution.\\nThe join() method is used to wait for a thread to complete its execution. When a thread is started with the start() method,\\nisAlive() is a method used to check whether a thread is currently active or running. It returns a boolean value, indicating whether the thread is alive or not.\\n\""
      ]
     },
     "execution_count": 8,
     "metadata": {},
     "output_type": "execute_result"
    }
   ],
   "source": [
    "\"\"\"\n",
    "run() is a method that represents the entry point of a thread's activity. When you create a thread object, you can subclass the thread class and override the run() method to define the actions that the thread will perform when it starts executing\n",
    "start() is a method used to start the execution of a thread. After creating a thread object and setting up its properties (if necessary), you call the start() method. This method initiates the thread's execution, and it internally calls the run() method that you've defined in your subclass. It's important to note that you should never call the run() method directly; always use start() to begin the thread's execution.\n",
    "The join() method is used to wait for a thread to complete its execution. When a thread is started with the start() method,\n",
    "isAlive() is a method used to check whether a thread is currently active or running. It returns a boolean value, indicating whether the thread is alive or not.\n",
    "\"\"\"\n"
   ]
  },
  {
   "cell_type": "code",
   "execution_count": 1,
   "id": "4a47b577-69af-4630-becc-2473ffd94015",
   "metadata": {},
   "outputs": [
    {
     "data": {
      "text/plain": [
       "' \\nQ 4 -> .  Write a python program to create two threads. Thread one must print the list of squares and thread \\ntwo must print the list of cubes.\\n'"
      ]
     },
     "execution_count": 1,
     "metadata": {},
     "output_type": "execute_result"
    }
   ],
   "source": [
    "\"\"\" \n",
    "Q 4 -> .  Write a python program to create two threads. Thread one must print the list of squares and thread \n",
    "two must print the list of cubes.\n",
    "\"\"\""
   ]
  },
  {
   "cell_type": "code",
   "execution_count": 3,
   "id": "269fc4ec-c3dd-4e08-8114-d823c1c4f6d4",
   "metadata": {},
   "outputs": [],
   "source": [
    "import threading "
   ]
  },
  {
   "cell_type": "code",
   "execution_count": 6,
   "id": "bbd96be0-fa79-4e3a-a81e-eea4419d1ef3",
   "metadata": {},
   "outputs": [],
   "source": [
    "def sq(number):\n",
    "    print(number*number)"
   ]
  },
  {
   "cell_type": "code",
   "execution_count": 7,
   "id": "cd945b87-0b25-423f-9d48-70cc19d1dc5c",
   "metadata": {},
   "outputs": [],
   "source": [
    "def cube (num):\n",
    "    print(num*num*num)"
   ]
  },
  {
   "cell_type": "code",
   "execution_count": 11,
   "id": "4887da03-1c17-43c3-8367-8f545ff18a65",
   "metadata": {},
   "outputs": [],
   "source": [
    "l = [1,2,3,4]"
   ]
  },
  {
   "cell_type": "code",
   "execution_count": 12,
   "id": "8d1a6210-58f5-42e9-a2fe-cd990eb4e2e9",
   "metadata": {},
   "outputs": [],
   "source": [
    "thread_sq = [threading.Thread(target = sq , args = (i,)) for i in  l ]"
   ]
  },
  {
   "cell_type": "code",
   "execution_count": 14,
   "id": "a8dc7d78-3106-4384-88df-2d613e6dbbe8",
   "metadata": {},
   "outputs": [
    {
     "data": {
      "text/plain": [
       "[<Thread(Thread-5 (sq), initial)>,\n",
       " <Thread(Thread-6 (sq), initial)>,\n",
       " <Thread(Thread-7 (sq), initial)>,\n",
       " <Thread(Thread-8 (sq), initial)>]"
      ]
     },
     "execution_count": 14,
     "metadata": {},
     "output_type": "execute_result"
    }
   ],
   "source": [
    "thread_sq"
   ]
  },
  {
   "cell_type": "code",
   "execution_count": 16,
   "id": "674cf53a-d755-4ca6-ab17-10d57d87ae64",
   "metadata": {},
   "outputs": [
    {
     "name": "stdout",
     "output_type": "stream",
     "text": [
      "1\n",
      "4\n",
      "9\n",
      "16\n"
     ]
    }
   ],
   "source": [
    "for t in thread_sq :\n",
    "    t.start()"
   ]
  },
  {
   "cell_type": "code",
   "execution_count": 18,
   "id": "dbff4ca8-ea10-478d-8c3e-e7b10a45322c",
   "metadata": {},
   "outputs": [],
   "source": [
    "thread_cu = [threading.Thread(target = cube , args = (i,)) for i in  l ]"
   ]
  },
  {
   "cell_type": "code",
   "execution_count": 19,
   "id": "a3d2c8c4-cf49-4d1b-83f9-60d9365f7a3e",
   "metadata": {},
   "outputs": [
    {
     "data": {
      "text/plain": [
       "[<Thread(Thread-9 (cube), initial)>,\n",
       " <Thread(Thread-10 (cube), initial)>,\n",
       " <Thread(Thread-11 (cube), initial)>,\n",
       " <Thread(Thread-12 (cube), initial)>]"
      ]
     },
     "execution_count": 19,
     "metadata": {},
     "output_type": "execute_result"
    }
   ],
   "source": [
    "thread_cu"
   ]
  },
  {
   "cell_type": "code",
   "execution_count": 20,
   "id": "bdc0b76f-7c7f-495c-afba-1a035f087c66",
   "metadata": {},
   "outputs": [
    {
     "name": "stdout",
     "output_type": "stream",
     "text": [
      "1\n",
      "8\n",
      "27\n",
      "64\n"
     ]
    }
   ],
   "source": [
    "for t in thread_cu :\n",
    "    t.start()"
   ]
  },
  {
   "cell_type": "code",
   "execution_count": 21,
   "id": "9334f689-d826-48f1-9efb-d270fd530c7a",
   "metadata": {},
   "outputs": [
    {
     "data": {
      "text/plain": [
       "'\\nQ 5 ->  State advantages and disadvantages of multithreading.\\n'"
      ]
     },
     "execution_count": 21,
     "metadata": {},
     "output_type": "execute_result"
    }
   ],
   "source": [
    "\"\"\"\n",
    "Q 5 ->  State advantages and disadvantages of multithreading.\n",
    "\"\"\""
   ]
  },
  {
   "cell_type": "code",
   "execution_count": 22,
   "id": "bbf2da41-0d0f-41e6-9e37-558c7a1fb7db",
   "metadata": {},
   "outputs": [
    {
     "data": {
      "text/plain": [
       "'\\nAdvantages: Simultaneous access to multiple applications Reduced number of required servers Improved performance and concurrency Simplified coding of remote procedure calls and conversations Disadvantages: Code writing, debugging, managing concurrency, testing, porting existing code is difficult in multithreading \\n'"
      ]
     },
     "execution_count": 22,
     "metadata": {},
     "output_type": "execute_result"
    }
   ],
   "source": [
    "\"\"\"\n",
    "Advantages: Simultaneous access to multiple applications Reduced number of required servers Improved performance and concurrency Simplified coding of remote procedure calls and conversations Disadvantages: Code writing, debugging, managing concurrency, testing, porting existing code is difficult in multithreading \n",
    "\"\"\""
   ]
  },
  {
   "cell_type": "code",
   "execution_count": 23,
   "id": "791b8e7d-0a74-4a71-a52e-317680add46b",
   "metadata": {},
   "outputs": [
    {
     "data": {
      "text/plain": [
       "'\\nQ 6 -> Explain deadlocks and race conditions.\\n'"
      ]
     },
     "execution_count": 23,
     "metadata": {},
     "output_type": "execute_result"
    }
   ],
   "source": [
    "\"\"\"\n",
    "Q 6 -> Explain deadlocks and race conditions.\n",
    "\"\"\"\n"
   ]
  },
  {
   "cell_type": "code",
   "execution_count": 24,
   "id": "234064e6-af3d-4f5f-9440-c71720a48c92",
   "metadata": {},
   "outputs": [
    {
     "data": {
      "text/plain": [
       "'\\nDeadlocks occur in multithreaded or multi-process programs when two or more threads or processes are unable to proceed because each is waiting for the other to release a resource they need. In other words, they are stuck in a cyclic dependency, preventing any of them from making progress.\\n\\nFor example, let\\'s consider two threads, Thread A and Thread B. Both threads need access to Resource X and Resource Y to complete their tasks. If Thread A acquires Resource X and then waits for Resource Y while Thread B has already acquired Resource Y and is waiting for Resource X, a deadlock situation arises. Neither thread can proceed, resulting in a program that appears to be \"frozen.\"\\n\\nRace Conditions:\\n\\nRace conditions occur when two or more threads or processes access shared data or resources concurrently, and the final outcome depends on the timing and order of their execution.\\n'"
      ]
     },
     "execution_count": 24,
     "metadata": {},
     "output_type": "execute_result"
    }
   ],
   "source": [
    "\"\"\"\n",
    "Deadlocks occur in multithreaded or multi-process programs when two or more threads or processes are unable to proceed because each is waiting for the other to release a resource they need. In other words, they are stuck in a cyclic dependency, preventing any of them from making progress.\n",
    "\n",
    "For example, let's consider two threads, Thread A and Thread B. Both threads need access to Resource X and Resource Y to complete their tasks. If Thread A acquires Resource X and then waits for Resource Y while Thread B has already acquired Resource Y and is waiting for Resource X, a deadlock situation arises. Neither thread can proceed, resulting in a program that appears to be \"frozen.\"\n",
    "\n",
    "Race Conditions:\n",
    "\n",
    "Race conditions occur when two or more threads or processes access shared data or resources concurrently, and the final outcome depends on the timing and order of their execution.\n",
    "\"\"\""
   ]
  },
  {
   "cell_type": "code",
   "execution_count": null,
   "id": "4f849129-af3c-48b9-b126-d527c8a05ee9",
   "metadata": {},
   "outputs": [],
   "source": []
  },
  {
   "cell_type": "code",
   "execution_count": null,
   "id": "6e0efd20-f354-486f-850d-13a622c0ff71",
   "metadata": {},
   "outputs": [],
   "source": []
  }
 ],
 "metadata": {
  "kernelspec": {
   "display_name": "Python 3 (ipykernel)",
   "language": "python",
   "name": "python3"
  },
  "language_info": {
   "codemirror_mode": {
    "name": "ipython",
    "version": 3
   },
   "file_extension": ".py",
   "mimetype": "text/x-python",
   "name": "python",
   "nbconvert_exporter": "python",
   "pygments_lexer": "ipython3",
   "version": "3.10.8"
  }
 },
 "nbformat": 4,
 "nbformat_minor": 5
}
